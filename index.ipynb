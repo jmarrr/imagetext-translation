{
 "cells": [
  {
   "cell_type": "markdown",
   "metadata": {},
   "source": [
    "### Initialize pyocr "
   ]
  },
  {
   "cell_type": "code",
   "execution_count": 1,
   "metadata": {},
   "outputs": [
    {
     "name": "stdout",
     "output_type": "stream",
     "text": [
      "Will use tool 'Tesseract (sh)'\n",
      "Available languages: eng, osd\n",
      "Will use lang 'eng'\n"
     ]
    }
   ],
   "source": [
    "from translate import Translator\n",
    "from PIL import Image\n",
    "import sys\n",
    "import cv2\n",
    "import pyocr\n",
    "import pyocr.builders\n",
    "\n",
    "tools = pyocr.get_available_tools()\n",
    "if len(tools) == 0:\n",
    "    print(\"No OCR tool found\")\n",
    "    sys.exit(1)\n",
    "\n",
    "tool = tools[0]\n",
    "print(\"Will use tool '%s'\" % (tool.get_name()))\n",
    "\n",
    "langs = tool.get_available_languages()\n",
    "print(\"Available languages: %s\" % \", \".join(langs))\n",
    "lang = langs[0]\n",
    "print(\"Will use lang '%s'\" % (lang))"
   ]
  },
  {
   "cell_type": "markdown",
   "metadata": {},
   "source": [
    "### Test on sample image"
   ]
  },
  {
   "cell_type": "code",
   "execution_count": 5,
   "metadata": {
    "scrolled": true
   },
   "outputs": [
    {
     "name": "stdout",
     "output_type": "stream",
     "text": [
      "Original text:  I have no idea of what I am\n",
      "doing\n",
      "-----------------------\n",
      "Translation:  我根本不知道这是什么。\n"
     ]
    }
   ],
   "source": [
    "image = cv2.imread('media/test.png')\n",
    "translator = Translator(to_lang=\"zh\")\n",
    "\n",
    "word_boxes = tool.image_to_string(\n",
    "    Image.fromarray(image),\n",
    "    lang=lang,\n",
    "    builder=pyocr.builders.WordBoxBuilder()\n",
    ")\n",
    "\n",
    "txt = tool.image_to_string(\n",
    "    Image.fromarray(image),\n",
    "    lang=lang,\n",
    "    builder=pyocr.builders.TextBuilder()\n",
    ")\n",
    "\n",
    "for word_box in word_boxes[::]:\n",
    "    ((left_x, left_y), (right_x, right_y)) = word_box.position\n",
    "    cv2.rectangle(image, (left_x, left_y), (right_x, right_y), (255,0,0), 2)\n",
    "\n",
    "translation = translator.translate(txt)\n",
    "cv2.imshow(\"Sample\", image)\n",
    "print(\"Original text: \",txt)\n",
    "print(\"-----------------------\")\n",
    "print(\"Translation: \",translation)\n",
    "\n",
    "cv2.waitKey(0)\n",
    "cv2.destroyAllWindows()  "
   ]
  },
  {
   "cell_type": "markdown",
   "metadata": {},
   "source": [
    "### Test on sample video"
   ]
  },
  {
   "cell_type": "code",
   "execution_count": 3,
   "metadata": {},
   "outputs": [
    {
     "name": "stdout",
     "output_type": "stream",
     "text": [
      "\n",
      "\n",
      "\n"
     ]
    }
   ],
   "source": [
    "cap = cv2.VideoCapture('media/sample2.mp4')\n",
    "\n",
    "while(True):\n",
    "    # Capture frame-by-frame\n",
    "    ret, frame = cap.read()\n",
    "   \n",
    "    word_boxes = tool.image_to_string(\n",
    "        Image.fromarray(frame),\n",
    "        lang=lang,\n",
    "        builder=pyocr.builders.WordBoxBuilder()\n",
    "    )\n",
    "    \n",
    "    txt = tool.image_to_string(\n",
    "        Image.fromarray(frame),\n",
    "        lang=lang,\n",
    "        builder=pyocr.builders.TextBuilder()\n",
    "    )\n",
    "    \n",
    "    for word_box in word_boxes[::]:\n",
    "        ((left_x, left_y), (right_x, right_y)) = word_box.position\n",
    "        cv2.rectangle(frame, (left_x, left_y), (right_x, right_y), (255,0,0), 2)\n",
    "\n",
    "    # Display the resulting frame\n",
    "    cv2.imshow('frame',frame)\n",
    "    translator= Translator(to_lang=\"zh\")\n",
    "    translation = translator.translate(txt)\n",
    "    \n",
    "    print(translation)\n",
    "    if cv2.waitKey(1) & 0xFF == ord('q'):\n",
    "        break\n",
    "\n",
    "# When everything done, release the capture\n",
    "cap.release()\n",
    "cv2.destroyAllWindows()"
   ]
  }
 ],
 "metadata": {
  "kernelspec": {
   "display_name": "Python 3",
   "language": "python",
   "name": "python3"
  },
  "language_info": {
   "codemirror_mode": {
    "name": "ipython",
    "version": 3
   },
   "file_extension": ".py",
   "mimetype": "text/x-python",
   "name": "python",
   "nbconvert_exporter": "python",
   "pygments_lexer": "ipython3",
   "version": "3.5.4"
  }
 },
 "nbformat": 4,
 "nbformat_minor": 2
}
